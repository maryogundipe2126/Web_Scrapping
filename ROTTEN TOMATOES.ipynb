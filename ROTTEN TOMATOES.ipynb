{
 "cells": [
  {
   "cell_type": "code",
   "execution_count": 2,
   "id": "8b301420",
   "metadata": {},
   "outputs": [],
   "source": [
    "import requests\n",
    "from bs4 import BeautifulSoup\n",
    "import pandas as pd"
   ]
  },
  {
   "cell_type": "code",
   "execution_count": 3,
   "id": "2c90d939",
   "metadata": {},
   "outputs": [],
   "source": [
    "url ='https://www.rottentomatoes.com/browse/movies_at_home/critics:certified_fresh'"
   ]
  },
  {
   "cell_type": "code",
   "execution_count": 5,
   "id": "3818eeaf",
   "metadata": {},
   "outputs": [],
   "source": [
    "page = requests.get(url).text\n"
   ]
  },
  {
   "cell_type": "code",
   "execution_count": 6,
   "id": "40b32f4d",
   "metadata": {},
   "outputs": [],
   "source": [
    "soup = BeautifulSoup(page, \"html.parser\")"
   ]
  },
  {
   "cell_type": "code",
   "execution_count": 7,
   "id": "d2b98613",
   "metadata": {},
   "outputs": [
    {
     "data": {
      "text/plain": [
       "['Rotten Tomatoes']"
      ]
     },
     "execution_count": 7,
     "metadata": {},
     "output_type": "execute_result"
    }
   ],
   "source": [
    "result = soup.select('a img[alt =\"Rotten Tomatoes\"]')\n",
    "page_title = [r['alt'].strip() for r in result]\n",
    "page_title"
   ]
  },
  {
   "cell_type": "code",
   "execution_count": 9,
   "id": "d8db1366",
   "metadata": {},
   "outputs": [
    {
     "data": {
      "text/plain": [
       "['https://resizing.flixster.com/-J3ADb_tc0V_YcGHpipAD3Boi2E=/206x305/v2/https://resizing.flixster.com/DAk40u5gg88Sy7QAHFbn4rHf6Ok=/fit-in/180x240/v2/https://resizing.flixster.com/6R5NafclJ9o7utVZiBRX9S5Z_2g=/ems.cHJkLWVtcy1hc3NldHMvbW92aWVzLzlkMTI1OGQzLTI0ZTMtNDZhZC1hNzllLTNlNzIxZGY1ZDA4Mi5qcGc=',\n",
       " 'https://resizing.flixster.com/vwj1-mRs0OrD9_yoIbvzhb_BkMQ=/206x305/v2/https://resizing.flixster.com/a9y0tPw52LaCBCqeqmfwi759Cmg=/fit-in/180x240/v2/https://resizing.flixster.com/vD-Eo_xUZwLs5hUz6-p3aH2qjTk=/ems.cHJkLWVtcy1hc3NldHMvbW92aWVzL2M5ZmU0N2Y5LWQ0OWItNGY0Mi04ZmNjLWNlZDI2NzBjNDYxMi5qcGc=',\n",
       " 'https://resizing.flixster.com/eTf1xmJauVeH_wCGdEuMPJf0BTg=/206x305/v2/https://resizing.flixster.com/uMDjnloG78ia_LrEhy3tCFw4yO8=/fit-in/180x240/v2/https://resizing.flixster.com/eLXac3RZa_zSEY_tLxgNrXPaVZM=/ems.cHJkLWVtcy1hc3NldHMvbW92aWVzLzRjNDNkNjIxLTliYmMtNGZkNy1iNTVmLWRkZjQxY2Y0MmQ4YS5qcGc=',\n",
       " 'https://resizing.flixster.com/AqEgHoqlgAg5urgCH4DPpwvWLHQ=/206x305/v2/https://resizing.flixster.com/w62zOLAvTDVe2iIL9fJ5PHrkbE8=/fit-in/180x240/v2/https://resizing.flixster.com/lrFtjyUx2BZc1A6vhBlPZAAw2KQ=/ems.cHJkLWVtcy1hc3NldHMvdHZzZWFzb24vMTc5N2VmNjUtNTAwYi00YTlkLWE1ZTYtOTdjMjY3N2FmNDc5LnBuZw==',\n",
       " 'https://prd-rteditorial.s3.us-west-2.amazonaws.com/wp-content/uploads/2018/02/14193805/Marvel-Movies-Recall2.jpg']"
      ]
     },
     "execution_count": 9,
     "metadata": {},
     "output_type": "execute_result"
    }
   ],
   "source": [
    "result = soup.select('tile-dynamic img[src]')   ## i found out it returned ten extra movies img\n",
    "img = [r['src'] for r in result]\n",
    "img[:5]"
   ]
  },
  {
   "cell_type": "code",
   "execution_count": 12,
   "id": "489582b8",
   "metadata": {},
   "outputs": [
    {
     "data": {
      "text/plain": [
       "['Creed III poster image',\n",
       " 'Palm Trees and Power Lines poster image',\n",
       " 'Of an Age poster image',\n",
       " 'Ted Lasso: Season 3 poster image',\n",
       " 'Marvel Movies Ranked Worst to Best by Tomatometer poster image',\n",
       " 'Jurassic Park Movies Ranked By Tomatometer poster image',\n",
       " 'Women’s History poster image',\n",
       " 'Awards Tour poster image',\n",
       " 'What The Last of Us Season 2 May Hold poster image',\n",
       " 'Loved The Last of Us? Here Are 10 Shows To Watch Next poster image',\n",
       " 'All the Beauty and the Bloodshed',\n",
       " 'Everything Everywhere All at Once',\n",
       " 'Missing',\n",
       " 'The Banshees of Inisherin',\n",
       " 'Tár',\n",
       " 'Palm Trees and Power Lines',\n",
       " 'Puss in Boots: The Last Wish',\n",
       " 'All Quiet on the Western Front',\n",
       " 'All That Breathes',\n",
       " 'The Fabelmans',\n",
       " 'Aftersun',\n",
       " 'M3GAN',\n",
       " 'The Menu',\n",
       " 'Top Gun: Maverick',\n",
       " 'Elvis',\n",
       " 'Infinity Pool',\n",
       " 'Black Panther: Wakanda Forever',\n",
       " 'Creed',\n",
       " 'Turning Red',\n",
       " 'Scream',\n",
       " 'The Woman King',\n",
       " 'Plane',\n",
       " 'Creed II',\n",
       " 'Huesera: The Bone Woman',\n",
       " 'Nope',\n",
       " \"Guillermo del Toro's Pinocchio\",\n",
       " 'X',\n",
       " 'EO',\n",
       " 'Smile',\n",
       " 'Emily the Criminal']"
      ]
     },
     "execution_count": 12,
     "metadata": {},
     "output_type": "execute_result"
    }
   ],
   "source": [
    "result = soup.select('tile-dynamic img[alt]')   #  it also returned ten extra movie title\n",
    "title_m = [r['alt'].replace('<em>', \"\").replace('</em>', '') for r in result]\n",
    "title_m"
   ]
  },
  {
   "cell_type": "code",
   "execution_count": 13,
   "id": "c0229744",
   "metadata": {
    "scrolled": false
   },
   "outputs": [
    {
     "data": {
      "text/plain": [
       "[('Creed III poster image',\n",
       "  'https://resizing.flixster.com/-J3ADb_tc0V_YcGHpipAD3Boi2E=/206x305/v2/https://resizing.flixster.com/DAk40u5gg88Sy7QAHFbn4rHf6Ok=/fit-in/180x240/v2/https://resizing.flixster.com/6R5NafclJ9o7utVZiBRX9S5Z_2g=/ems.cHJkLWVtcy1hc3NldHMvbW92aWVzLzlkMTI1OGQzLTI0ZTMtNDZhZC1hNzllLTNlNzIxZGY1ZDA4Mi5qcGc='),\n",
       " ('Palm Trees and Power Lines poster image',\n",
       "  'https://resizing.flixster.com/vwj1-mRs0OrD9_yoIbvzhb_BkMQ=/206x305/v2/https://resizing.flixster.com/a9y0tPw52LaCBCqeqmfwi759Cmg=/fit-in/180x240/v2/https://resizing.flixster.com/vD-Eo_xUZwLs5hUz6-p3aH2qjTk=/ems.cHJkLWVtcy1hc3NldHMvbW92aWVzL2M5ZmU0N2Y5LWQ0OWItNGY0Mi04ZmNjLWNlZDI2NzBjNDYxMi5qcGc='),\n",
       " ('Of an Age poster image',\n",
       "  'https://resizing.flixster.com/eTf1xmJauVeH_wCGdEuMPJf0BTg=/206x305/v2/https://resizing.flixster.com/uMDjnloG78ia_LrEhy3tCFw4yO8=/fit-in/180x240/v2/https://resizing.flixster.com/eLXac3RZa_zSEY_tLxgNrXPaVZM=/ems.cHJkLWVtcy1hc3NldHMvbW92aWVzLzRjNDNkNjIxLTliYmMtNGZkNy1iNTVmLWRkZjQxY2Y0MmQ4YS5qcGc='),\n",
       " ('Ted Lasso: Season 3 poster image',\n",
       "  'https://resizing.flixster.com/AqEgHoqlgAg5urgCH4DPpwvWLHQ=/206x305/v2/https://resizing.flixster.com/w62zOLAvTDVe2iIL9fJ5PHrkbE8=/fit-in/180x240/v2/https://resizing.flixster.com/lrFtjyUx2BZc1A6vhBlPZAAw2KQ=/ems.cHJkLWVtcy1hc3NldHMvdHZzZWFzb24vMTc5N2VmNjUtNTAwYi00YTlkLWE1ZTYtOTdjMjY3N2FmNDc5LnBuZw=='),\n",
       " ('Marvel Movies Ranked Worst to Best by Tomatometer poster image',\n",
       "  'https://prd-rteditorial.s3.us-west-2.amazonaws.com/wp-content/uploads/2018/02/14193805/Marvel-Movies-Recall2.jpg')]"
      ]
     },
     "execution_count": 13,
     "metadata": {},
     "output_type": "execute_result"
    }
   ],
   "source": [
    "Display = list(zip(title_m, img))\n",
    "Display[:5]"
   ]
  },
  {
   "cell_type": "code",
   "execution_count": 14,
   "id": "f982ce53",
   "metadata": {},
   "outputs": [
    {
     "name": "stdout",
     "output_type": "stream",
     "text": [
      "MOVIE TITLE: Creed III poster image\n"
     ]
    },
    {
     "data": {
      "text/html": [
       "<img src=\"https://resizing.flixster.com/-J3ADb_tc0V_YcGHpipAD3Boi2E=/206x305/v2/https://resizing.flixster.com/DAk40u5gg88Sy7QAHFbn4rHf6Ok=/fit-in/180x240/v2/https://resizing.flixster.com/6R5NafclJ9o7utVZiBRX9S5Z_2g=/ems.cHJkLWVtcy1hc3NldHMvbW92aWVzLzlkMTI1OGQzLTI0ZTMtNDZhZC1hNzllLTNlNzIxZGY1ZDA4Mi5qcGc=\" width=\"200\"/>"
      ],
      "text/plain": [
       "<IPython.core.display.Image object>"
      ]
     },
     "metadata": {},
     "output_type": "display_data"
    },
    {
     "name": "stdout",
     "output_type": "stream",
     "text": [
      "\n",
      "MOVIE TITLE: Palm Trees and Power Lines poster image\n"
     ]
    },
    {
     "data": {
      "text/html": [
       "<img src=\"https://resizing.flixster.com/vwj1-mRs0OrD9_yoIbvzhb_BkMQ=/206x305/v2/https://resizing.flixster.com/a9y0tPw52LaCBCqeqmfwi759Cmg=/fit-in/180x240/v2/https://resizing.flixster.com/vD-Eo_xUZwLs5hUz6-p3aH2qjTk=/ems.cHJkLWVtcy1hc3NldHMvbW92aWVzL2M5ZmU0N2Y5LWQ0OWItNGY0Mi04ZmNjLWNlZDI2NzBjNDYxMi5qcGc=\" width=\"200\"/>"
      ],
      "text/plain": [
       "<IPython.core.display.Image object>"
      ]
     },
     "metadata": {},
     "output_type": "display_data"
    },
    {
     "name": "stdout",
     "output_type": "stream",
     "text": [
      "\n",
      "MOVIE TITLE: Of an Age poster image\n"
     ]
    },
    {
     "data": {
      "text/html": [
       "<img src=\"https://resizing.flixster.com/eTf1xmJauVeH_wCGdEuMPJf0BTg=/206x305/v2/https://resizing.flixster.com/uMDjnloG78ia_LrEhy3tCFw4yO8=/fit-in/180x240/v2/https://resizing.flixster.com/eLXac3RZa_zSEY_tLxgNrXPaVZM=/ems.cHJkLWVtcy1hc3NldHMvbW92aWVzLzRjNDNkNjIxLTliYmMtNGZkNy1iNTVmLWRkZjQxY2Y0MmQ4YS5qcGc=\" width=\"200\"/>"
      ],
      "text/plain": [
       "<IPython.core.display.Image object>"
      ]
     },
     "metadata": {},
     "output_type": "display_data"
    },
    {
     "name": "stdout",
     "output_type": "stream",
     "text": [
      "\n",
      "MOVIE TITLE: Ted Lasso: Season 3 poster image\n"
     ]
    },
    {
     "data": {
      "text/html": [
       "<img src=\"https://resizing.flixster.com/AqEgHoqlgAg5urgCH4DPpwvWLHQ=/206x305/v2/https://resizing.flixster.com/w62zOLAvTDVe2iIL9fJ5PHrkbE8=/fit-in/180x240/v2/https://resizing.flixster.com/lrFtjyUx2BZc1A6vhBlPZAAw2KQ=/ems.cHJkLWVtcy1hc3NldHMvdHZzZWFzb24vMTc5N2VmNjUtNTAwYi00YTlkLWE1ZTYtOTdjMjY3N2FmNDc5LnBuZw==\" width=\"200\"/>"
      ],
      "text/plain": [
       "<IPython.core.display.Image object>"
      ]
     },
     "metadata": {},
     "output_type": "display_data"
    },
    {
     "name": "stdout",
     "output_type": "stream",
     "text": [
      "\n",
      "MOVIE TITLE: Marvel Movies Ranked Worst to Best by Tomatometer poster image\n"
     ]
    },
    {
     "data": {
      "text/html": [
       "<img src=\"https://prd-rteditorial.s3.us-west-2.amazonaws.com/wp-content/uploads/2018/02/14193805/Marvel-Movies-Recall2.jpg\" width=\"200\"/>"
      ],
      "text/plain": [
       "<IPython.core.display.Image object>"
      ]
     },
     "metadata": {},
     "output_type": "display_data"
    },
    {
     "name": "stdout",
     "output_type": "stream",
     "text": [
      "\n",
      "MOVIE TITLE: Jurassic Park Movies Ranked By Tomatometer poster image\n"
     ]
    },
    {
     "data": {
      "text/html": [
       "<img src=\"https://prd-rteditorial.s3.us-west-2.amazonaws.com/wp-content/uploads/2015/06/19171851/Jurassic-Park-Franchise-Recall.jpg\" width=\"200\"/>"
      ],
      "text/plain": [
       "<IPython.core.display.Image object>"
      ]
     },
     "metadata": {},
     "output_type": "display_data"
    },
    {
     "name": "stdout",
     "output_type": "stream",
     "text": [
      "\n",
      "MOVIE TITLE: Women’s History poster image\n"
     ]
    },
    {
     "data": {
      "text/html": [
       "<img src=\"https://prd-rteditorial.s3.us-west-2.amazonaws.com/wp-content/uploads/2022/03/17102637/RT_OTT_Herstory_2023_Promo_550X310.jpg\" width=\"200\"/>"
      ],
      "text/plain": [
       "<IPython.core.display.Image object>"
      ]
     },
     "metadata": {},
     "output_type": "display_data"
    },
    {
     "name": "stdout",
     "output_type": "stream",
     "text": [
      "\n",
      "MOVIE TITLE: Awards Tour poster image\n"
     ]
    },
    {
     "data": {
      "text/html": [
       "<img src=\"https://prd-rteditorial.s3.us-west-2.amazonaws.com/wp-content/uploads/2022/09/12091739/RT_AwardsTour_Thumbnail_600x314_Gradient.jpg\" width=\"200\"/>"
      ],
      "text/plain": [
       "<IPython.core.display.Image object>"
      ]
     },
     "metadata": {},
     "output_type": "display_data"
    },
    {
     "name": "stdout",
     "output_type": "stream",
     "text": [
      "\n",
      "MOVIE TITLE: What The Last of Us Season 2 May Hold poster image\n"
     ]
    },
    {
     "data": {
      "text/html": [
       "<img src=\"https://prd-rteditorial.s3.us-west-2.amazonaws.com/wp-content/uploads/2023/03/14122331/the-last-of-us-s1-ep9-pedro-pascal-bella-ramsey_600x314.jpg\" width=\"200\"/>"
      ],
      "text/plain": [
       "<IPython.core.display.Image object>"
      ]
     },
     "metadata": {},
     "output_type": "display_data"
    },
    {
     "name": "stdout",
     "output_type": "stream",
     "text": [
      "\n",
      "MOVIE TITLE: Loved The Last of Us? Here Are 10 Shows To Watch Next poster image\n"
     ]
    },
    {
     "data": {
      "text/html": [
       "<img src=\"https://prd-rteditorial.s3.us-west-2.amazonaws.com/wp-content/uploads/2023/01/09134359/the-last-of-us-pedro-pascal-bella-ramsey-hbo-featured.jpg\" width=\"200\"/>"
      ],
      "text/plain": [
       "<IPython.core.display.Image object>"
      ]
     },
     "metadata": {},
     "output_type": "display_data"
    },
    {
     "name": "stdout",
     "output_type": "stream",
     "text": [
      "\n",
      "MOVIE TITLE: All the Beauty and the Bloodshed\n"
     ]
    },
    {
     "data": {
      "text/html": [
       "<img src=\"https://resizing.flixster.com/MAkhvSl3g-3IMmHuhQT4NZUY6z0=/180x258/v2/https://resizing.flixster.com/lygXoCf_M0WByVqFLAdZ96SdKEk=/ems.cHJkLWVtcy1hc3NldHMvbW92aWVzLzVjOTY1MmM1LTNjZTgtNDUzYS1hMWQyLWExYzEzMDhiZTNkZi5qcGc=\" width=\"200\"/>"
      ],
      "text/plain": [
       "<IPython.core.display.Image object>"
      ]
     },
     "metadata": {},
     "output_type": "display_data"
    },
    {
     "name": "stdout",
     "output_type": "stream",
     "text": [
      "\n",
      "MOVIE TITLE: Everything Everywhere All at Once\n"
     ]
    },
    {
     "data": {
      "text/html": [
       "<img src=\"https://resizing.flixster.com/EfEP4ibneaDRhBY_i9fsO3Gxa0Y=/180x258/v2/https://resizing.flixster.com/mx-agGjjsUK1QMyuv3AJhHI3hgo=/ems.cHJkLWVtcy1hc3NldHMvbW92aWVzLzA3ZjU2MGU1LWMxODItNDlkMC1hYzJhLTY2YzMwOGZkMDhiZi5qcGc=\" width=\"200\"/>"
      ],
      "text/plain": [
       "<IPython.core.display.Image object>"
      ]
     },
     "metadata": {},
     "output_type": "display_data"
    },
    {
     "name": "stdout",
     "output_type": "stream",
     "text": [
      "\n",
      "MOVIE TITLE: Missing\n"
     ]
    },
    {
     "data": {
      "text/html": [
       "<img src=\"https://resizing.flixster.com/_oRGQEyYwctFP9JQCZOu1lg52nU=/180x258/v2/https://resizing.flixster.com/RTX_Ec72Imig92mBwROA1C-YFTE=/ems.cHJkLWVtcy1hc3NldHMvbW92aWVzLzExOGNjY2MyLTg0MTctNDBmMS1hYTFhLWNmZWU5ZTVjNDg5NS5qcGc=\" width=\"200\"/>"
      ],
      "text/plain": [
       "<IPython.core.display.Image object>"
      ]
     },
     "metadata": {},
     "output_type": "display_data"
    },
    {
     "name": "stdout",
     "output_type": "stream",
     "text": [
      "\n",
      "MOVIE TITLE: The Banshees of Inisherin\n"
     ]
    },
    {
     "data": {
      "text/html": [
       "<img src=\"https://resizing.flixster.com/g75SmYnr5OmzMH2poVBHMtkhQuc=/180x258/v2/https://resizing.flixster.com/SqYohHz5ela5G1qTZ8aKYunK2Oo=/ems.cHJkLWVtcy1hc3NldHMvbW92aWVzLzc4ZjI3ZDBiLTkwMDktNDVkZC1hZmI5LTJiNDdjNWRmZDVjOC5qcGc=\" width=\"200\"/>"
      ],
      "text/plain": [
       "<IPython.core.display.Image object>"
      ]
     },
     "metadata": {},
     "output_type": "display_data"
    },
    {
     "name": "stdout",
     "output_type": "stream",
     "text": [
      "\n",
      "MOVIE TITLE: Tár\n"
     ]
    },
    {
     "data": {
      "text/html": [
       "<img src=\"https://resizing.flixster.com/sye-r3JubXdjZ0hMghg9X1pmUJU=/180x258/v2/https://resizing.flixster.com/wFUHH4yTM6tmK4R-0f6pCrCPpB0=/ems.cHJkLWVtcy1hc3NldHMvbW92aWVzLzBlZGZjZWM1LTVkNmMtNDYzZC1iNjc0LTYwNDY0YTkzYTExYy5qcGc=\" width=\"200\"/>"
      ],
      "text/plain": [
       "<IPython.core.display.Image object>"
      ]
     },
     "metadata": {},
     "output_type": "display_data"
    },
    {
     "name": "stdout",
     "output_type": "stream",
     "text": [
      "\n",
      "MOVIE TITLE: Palm Trees and Power Lines\n"
     ]
    },
    {
     "data": {
      "text/html": [
       "<img src=\"https://resizing.flixster.com/yUPCU7LElV7Hg3cW7ACbp-TY2eI=/180x258/v2/https://resizing.flixster.com/vD-Eo_xUZwLs5hUz6-p3aH2qjTk=/ems.cHJkLWVtcy1hc3NldHMvbW92aWVzL2M5ZmU0N2Y5LWQ0OWItNGY0Mi04ZmNjLWNlZDI2NzBjNDYxMi5qcGc=\" width=\"200\"/>"
      ],
      "text/plain": [
       "<IPython.core.display.Image object>"
      ]
     },
     "metadata": {},
     "output_type": "display_data"
    },
    {
     "name": "stdout",
     "output_type": "stream",
     "text": [
      "\n",
      "MOVIE TITLE: Puss in Boots: The Last Wish\n"
     ]
    },
    {
     "data": {
      "text/html": [
       "<img src=\"https://resizing.flixster.com/7TqHTXZS36wi0cPwfdLO3kQMXH0=/180x258/v2/https://resizing.flixster.com/vtIcjOYiM-QBXQyXhTFFgQoRkDw=/ems.cHJkLWVtcy1hc3NldHMvbW92aWVzL2JmNjM3ZTc2LTk5ZmMtNGJhNy04MDAzLWI3M2IxNmExNDNkYi5qcGc=\" width=\"200\"/>"
      ],
      "text/plain": [
       "<IPython.core.display.Image object>"
      ]
     },
     "metadata": {},
     "output_type": "display_data"
    },
    {
     "name": "stdout",
     "output_type": "stream",
     "text": [
      "\n",
      "MOVIE TITLE: All Quiet on the Western Front\n"
     ]
    },
    {
     "data": {
      "text/html": [
       "<img src=\"https://resizing.flixster.com/23LHxfziaVb6n9imP-2Q9KnlK5E=/180x258/v2/https://resizing.flixster.com/Tv-nj_XzcvU5GZthFm-0xrSvvjo=/ems.cHJkLWVtcy1hc3NldHMvbW92aWVzLzljM2U3Mjk3LWExNzgtNGE2NS05OTMxLWVlZmU1NzNlZWM5MS5qcGc=\" width=\"200\"/>"
      ],
      "text/plain": [
       "<IPython.core.display.Image object>"
      ]
     },
     "metadata": {},
     "output_type": "display_data"
    },
    {
     "name": "stdout",
     "output_type": "stream",
     "text": [
      "\n",
      "MOVIE TITLE: All That Breathes\n"
     ]
    },
    {
     "data": {
      "text/html": [
       "<img src=\"https://resizing.flixster.com/xAVqQAc1-7Wkod6r96g3GQ7EjQ0=/180x258/v2/https://resizing.flixster.com/sP16cjgBL-XWStdPbig_SMF_kYs=/ems.cHJkLWVtcy1hc3NldHMvbW92aWVzLzMzYmQyMjk5LWMzMTYtNGY4OS1hOGU5LTMxZWNhMDBjZTgwNy5qcGc=\" width=\"200\"/>"
      ],
      "text/plain": [
       "<IPython.core.display.Image object>"
      ]
     },
     "metadata": {},
     "output_type": "display_data"
    },
    {
     "name": "stdout",
     "output_type": "stream",
     "text": [
      "\n",
      "MOVIE TITLE: The Fabelmans\n"
     ]
    },
    {
     "data": {
      "text/html": [
       "<img src=\"https://resizing.flixster.com/c0UaF5wT35zDl_bCLSI6nAcvSus=/180x258/v2/https://resizing.flixster.com/sHWlKXB2LojbyFEGXuLICWYopdI=/ems.cHJkLWVtcy1hc3NldHMvbW92aWVzLzA3Y2Y3MTk3LWZkMWUtNGNjNS04YzY0LWI0YjNlNDNmYTRhNC5qcGc=\" width=\"200\"/>"
      ],
      "text/plain": [
       "<IPython.core.display.Image object>"
      ]
     },
     "metadata": {},
     "output_type": "display_data"
    },
    {
     "name": "stdout",
     "output_type": "stream",
     "text": [
      "\n",
      "MOVIE TITLE: Aftersun\n"
     ]
    },
    {
     "data": {
      "text/html": [
       "<img src=\"https://resizing.flixster.com/BvnA4LfxGe8DSkd6PpUkdiPNxlM=/180x258/v2/https://resizing.flixster.com/dLAtEC7GySsgPdWZKx-cPCV6KBY=/ems.cHJkLWVtcy1hc3NldHMvbW92aWVzL2Q3NWQwM2U2LWJkNTctNDNjOC04ODhiLTNlYjI1MGI0YmI4ZS5qcGc=\" width=\"200\"/>"
      ],
      "text/plain": [
       "<IPython.core.display.Image object>"
      ]
     },
     "metadata": {},
     "output_type": "display_data"
    },
    {
     "name": "stdout",
     "output_type": "stream",
     "text": [
      "\n",
      "MOVIE TITLE: M3GAN\n"
     ]
    },
    {
     "data": {
      "text/html": [
       "<img src=\"https://resizing.flixster.com/VS-VVckP1gsqGPL8olacKHSryFA=/180x258/v2/https://resizing.flixster.com/rPJASTXFjLpmiVTi3D6RGcq-skM=/ems.cHJkLWVtcy1hc3NldHMvbW92aWVzLzhjYjA0ODBiLTNlNmUtNDlhOS05ZWRlLThlOGQ2MmEyZjlmYS5qcGc=\" width=\"200\"/>"
      ],
      "text/plain": [
       "<IPython.core.display.Image object>"
      ]
     },
     "metadata": {},
     "output_type": "display_data"
    },
    {
     "name": "stdout",
     "output_type": "stream",
     "text": [
      "\n",
      "MOVIE TITLE: The Menu\n"
     ]
    },
    {
     "data": {
      "text/html": [
       "<img src=\"https://resizing.flixster.com/jJvkHPPuBR24i8zhk98fu13YPDo=/180x258/v2/https://resizing.flixster.com/ThP55y9O__xdEFFCmmJ0pDy9FeI=/ems.cHJkLWVtcy1hc3NldHMvbW92aWVzL2FlZTkwYTAyLWNkNWYtNDA0ZS04N2FhLTE0NDUwZmM0ODdiOC5qcGc=\" width=\"200\"/>"
      ],
      "text/plain": [
       "<IPython.core.display.Image object>"
      ]
     },
     "metadata": {},
     "output_type": "display_data"
    },
    {
     "name": "stdout",
     "output_type": "stream",
     "text": [
      "\n",
      "MOVIE TITLE: Top Gun: Maverick\n"
     ]
    },
    {
     "data": {
      "text/html": [
       "<img src=\"https://resizing.flixster.com/muQdl8QOTaRQCfedkh-NQYfaGxs=/180x258/v2/https://resizing.flixster.com/TIM4kfHTVZrfpF0tYt9LIU69A5s=/ems.cHJkLWVtcy1hc3NldHMvbW92aWVzLzU1OWIwMWQwLWYyZDItNDk4Yi04MDIxLWI3OTJlNDI1NjA3NS5qcGc=\" width=\"200\"/>"
      ],
      "text/plain": [
       "<IPython.core.display.Image object>"
      ]
     },
     "metadata": {},
     "output_type": "display_data"
    },
    {
     "name": "stdout",
     "output_type": "stream",
     "text": [
      "\n",
      "MOVIE TITLE: Elvis\n"
     ]
    },
    {
     "data": {
      "text/html": [
       "<img src=\"https://resizing.flixster.com/__1jLNztzEXGUPlcq8fzs82Zu58=/180x258/v2/https://resizing.flixster.com/mYfU74jKBCV9KA_O7ktmk5exwu4=/ems.cHJkLWVtcy1hc3NldHMvbW92aWVzLzczNjAwNTk0LTRlZWEtNDY5Ni1iYWM1LWRhZjI1OWUzODNhNy5qcGc=\" width=\"200\"/>"
      ],
      "text/plain": [
       "<IPython.core.display.Image object>"
      ]
     },
     "metadata": {},
     "output_type": "display_data"
    },
    {
     "name": "stdout",
     "output_type": "stream",
     "text": [
      "\n",
      "MOVIE TITLE: Infinity Pool\n"
     ]
    },
    {
     "data": {
      "text/html": [
       "<img src=\"https://resizing.flixster.com/qRZqOlh8YL4FQvJphPiTy8ntzXI=/180x258/v2/https://resizing.flixster.com/P6s0RlGDQvFmVgWgdBbyuAZwHMU=/ems.cHJkLWVtcy1hc3NldHMvbW92aWVzLzFhZjcxYTQ3LTExY2UtNDUxNy05NTI5LWI2ZjhkMGY1ODg1MS5qcGc=\" width=\"200\"/>"
      ],
      "text/plain": [
       "<IPython.core.display.Image object>"
      ]
     },
     "metadata": {},
     "output_type": "display_data"
    },
    {
     "name": "stdout",
     "output_type": "stream",
     "text": [
      "\n",
      "MOVIE TITLE: Black Panther: Wakanda Forever\n"
     ]
    },
    {
     "data": {
      "text/html": [
       "<img src=\"https://resizing.flixster.com/q-cbmseXvttzhL3h69gYmh55BQE=/180x258/v2/https://resizing.flixster.com/QJkeIM6LIvwmRGiLKrNBcpZIk8M=/ems.cHJkLWVtcy1hc3NldHMvbW92aWVzLzAwYzExZjlmLWJlODQtNDY4Mi1iNDhkLWU2YWNmMGIyMDgwMi5qcGc=\" width=\"200\"/>"
      ],
      "text/plain": [
       "<IPython.core.display.Image object>"
      ]
     },
     "metadata": {},
     "output_type": "display_data"
    },
    {
     "name": "stdout",
     "output_type": "stream",
     "text": [
      "\n",
      "MOVIE TITLE: Creed\n"
     ]
    },
    {
     "data": {
      "text/html": [
       "<img src=\"https://resizing.flixster.com/x3UiJsSdVP4ESM1LwjcMgHDNVMo=/180x258/v2/https://flxt.tmsimg.com/assets/p11491087_p_v8_ad.jpg\" width=\"200\"/>"
      ],
      "text/plain": [
       "<IPython.core.display.Image object>"
      ]
     },
     "metadata": {},
     "output_type": "display_data"
    },
    {
     "name": "stdout",
     "output_type": "stream",
     "text": [
      "\n",
      "MOVIE TITLE: Turning Red\n"
     ]
    },
    {
     "data": {
      "text/html": [
       "<img src=\"https://resizing.flixster.com/-hZAfm5Qyzg1aPs1YIqGRXGmURw=/180x258/v2/https://resizing.flixster.com/act18cZFX3BdiUEaLrZQkAhQ9oM=/ems.cHJkLWVtcy1hc3NldHMvbW92aWVzLzkyNjlmYjNjLWFlY2ItNGJjNi1iNDk2LTY4NGJiMDBjZGUyMS5qcGc=\" width=\"200\"/>"
      ],
      "text/plain": [
       "<IPython.core.display.Image object>"
      ]
     },
     "metadata": {},
     "output_type": "display_data"
    },
    {
     "name": "stdout",
     "output_type": "stream",
     "text": [
      "\n",
      "MOVIE TITLE: Scream\n"
     ]
    },
    {
     "data": {
      "text/html": [
       "<img src=\"https://resizing.flixster.com/_09EwsHrA84WeZVUipmbMO7TLb8=/180x258/v2/https://flxt.tmsimg.com/assets/p18852_p_v10_al.jpg\" width=\"200\"/>"
      ],
      "text/plain": [
       "<IPython.core.display.Image object>"
      ]
     },
     "metadata": {},
     "output_type": "display_data"
    },
    {
     "name": "stdout",
     "output_type": "stream",
     "text": [
      "\n",
      "MOVIE TITLE: The Woman King\n"
     ]
    },
    {
     "data": {
      "text/html": [
       "<img src=\"https://resizing.flixster.com/RxOwvg8L_rDc9PjE7zjqOfxpbvA=/180x258/v2/https://resizing.flixster.com/BwXaeEZJNNzzduc8EaebjKl2aGc=/ems.cHJkLWVtcy1hc3NldHMvbW92aWVzLzY4YTIwMGI3LTk1YjUtNDY1ZC1hYmMyLTIwM2UwZjc2OTY4Mi5qcGc=\" width=\"200\"/>"
      ],
      "text/plain": [
       "<IPython.core.display.Image object>"
      ]
     },
     "metadata": {},
     "output_type": "display_data"
    },
    {
     "name": "stdout",
     "output_type": "stream",
     "text": [
      "\n",
      "MOVIE TITLE: Plane\n"
     ]
    },
    {
     "data": {
      "text/html": [
       "<img src=\"https://resizing.flixster.com/ciLKBI0yEQsSO3yDx7tVT-pMvLE=/180x258/v2/https://resizing.flixster.com/96gGzEOuV_fOYF8NKCANgRXH3SI=/ems.cHJkLWVtcy1hc3NldHMvbW92aWVzLzUzN2ViMzg3LWNjNGUtNDFjZC1hMzZiLTgyYWEwOWIzZTdlZi5qcGc=\" width=\"200\"/>"
      ],
      "text/plain": [
       "<IPython.core.display.Image object>"
      ]
     },
     "metadata": {},
     "output_type": "display_data"
    },
    {
     "name": "stdout",
     "output_type": "stream",
     "text": [
      "\n",
      "MOVIE TITLE: Creed II\n"
     ]
    },
    {
     "data": {
      "text/html": [
       "<img src=\"https://resizing.flixster.com/WswsXTrU-LY2eBbaXpmDk459lJE=/180x258/v2/https://resizing.flixster.com/zgqA5-GTLiBGozqR7shsGleCbgg=/ems.cHJkLWVtcy1hc3NldHMvbW92aWVzLzZjNzk4MDEzLWUyN2QtNDQ5MS1hYzhiLWJmNjBlMTgyZDgxOC53ZWJw\" width=\"200\"/>"
      ],
      "text/plain": [
       "<IPython.core.display.Image object>"
      ]
     },
     "metadata": {},
     "output_type": "display_data"
    },
    {
     "name": "stdout",
     "output_type": "stream",
     "text": [
      "\n",
      "MOVIE TITLE: Huesera: The Bone Woman\n"
     ]
    },
    {
     "data": {
      "text/html": [
       "<img src=\"https://resizing.flixster.com/5cbbFW80kwDFBd4HUxXgcYQKDs4=/180x258/v2/https://resizing.flixster.com/2D11JKDMrL8uvWUXXCeS83t5jHg=/ems.cHJkLWVtcy1hc3NldHMvbW92aWVzLzA0MDE0NDE4LWUwMjktNDMwZi1iMTdkLWU4NzU0ZTJiMDRmZS5qcGc=\" width=\"200\"/>"
      ],
      "text/plain": [
       "<IPython.core.display.Image object>"
      ]
     },
     "metadata": {},
     "output_type": "display_data"
    },
    {
     "name": "stdout",
     "output_type": "stream",
     "text": [
      "\n",
      "MOVIE TITLE: Nope\n"
     ]
    },
    {
     "data": {
      "text/html": [
       "<img src=\"https://resizing.flixster.com/l1ZLcJex3o9HyCsxa2r8kZu-h0s=/180x258/v2/https://resizing.flixster.com/6EeYrywKueOFue9uRSQqLxfGKI0=/ems.cHJkLWVtcy1hc3NldHMvbW92aWVzLzA0NzZhZTk0LTI3NjctNGZiNi04Yjg4LWRiN2RkNTJiYWZlNy5qcGc=\" width=\"200\"/>"
      ],
      "text/plain": [
       "<IPython.core.display.Image object>"
      ]
     },
     "metadata": {},
     "output_type": "display_data"
    },
    {
     "name": "stdout",
     "output_type": "stream",
     "text": [
      "\n",
      "MOVIE TITLE: Guillermo del Toro's Pinocchio\n"
     ]
    },
    {
     "data": {
      "text/html": [
       "<img src=\"https://resizing.flixster.com/4nWFJLNFCGRYpJ06c2OhlkaHIso=/180x258/v2/https://resizing.flixster.com/21j7kYKcSY89f0BqEBs-MUCmfkk=/ems.cHJkLWVtcy1hc3NldHMvbW92aWVzL2FiZWNkNjYzLTRkYTAtNGI2My05NmUzLWNkZmM0ZjI2NDk4Zi5qcGc=\" width=\"200\"/>"
      ],
      "text/plain": [
       "<IPython.core.display.Image object>"
      ]
     },
     "metadata": {},
     "output_type": "display_data"
    },
    {
     "name": "stdout",
     "output_type": "stream",
     "text": [
      "\n",
      "MOVIE TITLE: X\n"
     ]
    },
    {
     "data": {
      "text/html": [
       "<img src=\"https://resizing.flixster.com/3z0Y9dEFKVm81xMe3hnHKEP70iQ=/180x258/v2/https://resizing.flixster.com/-Ius_N-ltCTKSsVCP_h4zcw5ixs=/ems.cHJkLWVtcy1hc3NldHMvbW92aWVzLzI5Y2VlMDIwLTJhMTgtNDAwOC05YTZkLTFkNWI1ZTQ2MGI4OC5qcGc=\" width=\"200\"/>"
      ],
      "text/plain": [
       "<IPython.core.display.Image object>"
      ]
     },
     "metadata": {},
     "output_type": "display_data"
    },
    {
     "name": "stdout",
     "output_type": "stream",
     "text": [
      "\n",
      "MOVIE TITLE: EO\n"
     ]
    },
    {
     "data": {
      "text/html": [
       "<img src=\"https://resizing.flixster.com/GNbMDo4oupyHsKq68rsSqIgHajs=/180x258/v2/https://resizing.flixster.com/_GiA2e44MiRL0qfNp__7fYjpCSo=/ems.cHJkLWVtcy1hc3NldHMvbW92aWVzL2JiOTVjODUxLTQ0MzMtNGQwMC04MDQ4LWEzN2U4MTA4Yjg3Mi5qcGc=\" width=\"200\"/>"
      ],
      "text/plain": [
       "<IPython.core.display.Image object>"
      ]
     },
     "metadata": {},
     "output_type": "display_data"
    },
    {
     "name": "stdout",
     "output_type": "stream",
     "text": [
      "\n",
      "MOVIE TITLE: Smile\n"
     ]
    },
    {
     "data": {
      "text/html": [
       "<img src=\"https://resizing.flixster.com/jqM--MZEccdjjWAYg-8gIyK51YI=/180x258/v2/https://resizing.flixster.com/6Ce6e_0XkidJuYJN0kCXykPDezo=/ems.cHJkLWVtcy1hc3NldHMvbW92aWVzL2M2ODA3YzkwLWYyM2MtNGFhYS04MGViLTYzN2ZhYWIyYmU1Yi5qcGc=\" width=\"200\"/>"
      ],
      "text/plain": [
       "<IPython.core.display.Image object>"
      ]
     },
     "metadata": {},
     "output_type": "display_data"
    },
    {
     "name": "stdout",
     "output_type": "stream",
     "text": [
      "\n",
      "MOVIE TITLE: Emily the Criminal\n"
     ]
    },
    {
     "data": {
      "text/html": [
       "<img src=\"https://resizing.flixster.com/uyywbBK3z6ZhZjZ-Lwy7YTbwofM=/180x258/v2/https://resizing.flixster.com/qtYisqOwDStnpo2P22PRTHC53Uk=/ems.cHJkLWVtcy1hc3NldHMvbW92aWVzL2NmMmQ0ZTRiLWVkOGYtNDllNS05ZjRiLWYyY2RhMjk1YzRjYi5qcGc=\" width=\"200\"/>"
      ],
      "text/plain": [
       "<IPython.core.display.Image object>"
      ]
     },
     "metadata": {},
     "output_type": "display_data"
    },
    {
     "name": "stdout",
     "output_type": "stream",
     "text": [
      "\n"
     ]
    }
   ],
   "source": [
    "for foto in Display:\n",
    "    print(f'MOVIE TITLE: {foto[0]}')   # tried formating the img and their title\n",
    "    display(Image(url = foto[1], width = 200))\n",
    "    print('')"
   ]
  },
  {
   "cell_type": "code",
   "execution_count": 15,
   "id": "d124ad28",
   "metadata": {},
   "outputs": [
    {
     "data": {
      "text/plain": [
       "['All the Beauty and the Bloodshed',\n",
       " 'Everything Everywhere All at Once',\n",
       " 'Missing',\n",
       " 'The Banshees of Inisherin',\n",
       " 'Tár',\n",
       " 'Palm Trees and Power Lines',\n",
       " 'Puss in Boots: The Last Wish',\n",
       " 'All Quiet on the Western Front',\n",
       " 'All That Breathes',\n",
       " 'The Fabelmans',\n",
       " 'Aftersun',\n",
       " 'M3GAN',\n",
       " 'The Menu',\n",
       " 'Top Gun: Maverick',\n",
       " 'Elvis',\n",
       " 'Infinity Pool',\n",
       " 'Black Panther: Wakanda Forever',\n",
       " 'Creed',\n",
       " 'Turning Red',\n",
       " 'Scream',\n",
       " 'The Woman King',\n",
       " 'Plane',\n",
       " 'Creed II',\n",
       " 'Huesera: The Bone Woman',\n",
       " 'Nope',\n",
       " \"Guillermo del Toro's Pinocchio\",\n",
       " 'X',\n",
       " 'EO',\n",
       " 'Smile',\n",
       " 'Emily the Criminal']"
      ]
     },
     "execution_count": 15,
     "metadata": {},
     "output_type": "execute_result"
    }
   ],
   "source": [
    "result = soup.select('span[data-qa=\"discovery-media-list-item-title\"]')   # this removed the first ten movie title\n",
    "movie_title = [r.text.strip() for r in result]\n",
    "movie_title"
   ]
  },
  {
   "cell_type": "code",
   "execution_count": 16,
   "id": "4a431ae3",
   "metadata": {},
   "outputs": [
    {
     "data": {
      "text/plain": [
       "['Streaming Mar 19, 2023',\n",
       " 'Streaming Jun 7, 2022',\n",
       " 'Streaming Mar 7, 2023',\n",
       " 'Streaming Dec 13, 2022',\n",
       " 'Streaming Dec 20, 2022',\n",
       " 'Streaming Mar 3, 2023',\n",
       " 'Streaming Jan 6, 2023',\n",
       " 'Streaming Oct 28, 2022',\n",
       " 'Streaming Feb 7, 2023',\n",
       " 'Streaming Dec 13, 2022',\n",
       " 'Streaming Dec 20, 2022',\n",
       " 'Streaming Jan 24, 2023',\n",
       " 'Streaming Jan 3, 2023',\n",
       " 'Streaming Aug 22, 2022',\n",
       " 'Streaming Aug 9, 2022',\n",
       " 'Streaming Feb 14, 2023',\n",
       " 'Streaming Feb 1, 2023',\n",
       " 'Streaming Aug 21, 2016',\n",
       " 'Streaming Mar 11, 2022',\n",
       " 'Streaming Apr 21, 2016',\n",
       " 'Streaming Dec 13, 2022',\n",
       " 'Streaming Feb 2, 2023',\n",
       " 'Streaming Feb 12, 2019',\n",
       " 'Streaming Feb 16, 2023',\n",
       " 'Streaming Nov 18, 2022',\n",
       " 'Streaming Dec 9, 2022',\n",
       " 'Streaming Apr 14, 2022',\n",
       " 'Streaming Feb 21, 2023',\n",
       " 'Streaming Nov 15, 2022',\n",
       " 'Streaming Oct 28, 2022']"
      ]
     },
     "execution_count": 16,
     "metadata": {},
     "output_type": "execute_result"
    }
   ],
   "source": [
    "result = soup.select('div span[class=\"smaller\"]')\n",
    "stream_date = [r.text.strip() for r in result]\n",
    "stream_date"
   ]
  },
  {
   "cell_type": "code",
   "execution_count": 17,
   "id": "98311467",
   "metadata": {},
   "outputs": [
    {
     "data": {
      "text/plain": [
       "['51',\n",
       " '88',\n",
       " '90',\n",
       " '75',\n",
       " '74',\n",
       " '81',\n",
       " '94',\n",
       " '90',\n",
       " '83',\n",
       " '83',\n",
       " '81',\n",
       " '78',\n",
       " '76',\n",
       " '99',\n",
       " '94',\n",
       " '51',\n",
       " '94',\n",
       " '89',\n",
       " '70',\n",
       " '79',\n",
       " '99',\n",
       " '94',\n",
       " '80',\n",
       " '69',\n",
       " '69',\n",
       " '90',\n",
       " '75',\n",
       " '67',\n",
       " '77',\n",
       " '79']"
      ]
     },
     "execution_count": 17,
     "metadata": {},
     "output_type": "execute_result"
    }
   ],
   "source": [
    "result = soup.select('score-pairs[audiencescore]')\n",
    "audience_score = [r['audiencescore'] for r in result]\n",
    "audience_score"
   ]
  },
  {
   "cell_type": "code",
   "execution_count": 18,
   "id": "7856a5e9",
   "metadata": {},
   "outputs": [
    {
     "data": {
      "text/plain": [
       "[('All the Beauty and the Bloodshed',\n",
       "  'https://resizing.flixster.com/-J3ADb_tc0V_YcGHpipAD3Boi2E=/206x305/v2/https://resizing.flixster.com/DAk40u5gg88Sy7QAHFbn4rHf6Ok=/fit-in/180x240/v2/https://resizing.flixster.com/6R5NafclJ9o7utVZiBRX9S5Z_2g=/ems.cHJkLWVtcy1hc3NldHMvbW92aWVzLzlkMTI1OGQzLTI0ZTMtNDZhZC1hNzllLTNlNzIxZGY1ZDA4Mi5qcGc=',\n",
       "  '51',\n",
       "  'Streaming Mar 19, 2023'),\n",
       " ('Everything Everywhere All at Once',\n",
       "  'https://resizing.flixster.com/vwj1-mRs0OrD9_yoIbvzhb_BkMQ=/206x305/v2/https://resizing.flixster.com/a9y0tPw52LaCBCqeqmfwi759Cmg=/fit-in/180x240/v2/https://resizing.flixster.com/vD-Eo_xUZwLs5hUz6-p3aH2qjTk=/ems.cHJkLWVtcy1hc3NldHMvbW92aWVzL2M5ZmU0N2Y5LWQ0OWItNGY0Mi04ZmNjLWNlZDI2NzBjNDYxMi5qcGc=',\n",
       "  '88',\n",
       "  'Streaming Jun 7, 2022'),\n",
       " ('Missing',\n",
       "  'https://resizing.flixster.com/eTf1xmJauVeH_wCGdEuMPJf0BTg=/206x305/v2/https://resizing.flixster.com/uMDjnloG78ia_LrEhy3tCFw4yO8=/fit-in/180x240/v2/https://resizing.flixster.com/eLXac3RZa_zSEY_tLxgNrXPaVZM=/ems.cHJkLWVtcy1hc3NldHMvbW92aWVzLzRjNDNkNjIxLTliYmMtNGZkNy1iNTVmLWRkZjQxY2Y0MmQ4YS5qcGc=',\n",
       "  '90',\n",
       "  'Streaming Mar 7, 2023'),\n",
       " ('The Banshees of Inisherin',\n",
       "  'https://resizing.flixster.com/AqEgHoqlgAg5urgCH4DPpwvWLHQ=/206x305/v2/https://resizing.flixster.com/w62zOLAvTDVe2iIL9fJ5PHrkbE8=/fit-in/180x240/v2/https://resizing.flixster.com/lrFtjyUx2BZc1A6vhBlPZAAw2KQ=/ems.cHJkLWVtcy1hc3NldHMvdHZzZWFzb24vMTc5N2VmNjUtNTAwYi00YTlkLWE1ZTYtOTdjMjY3N2FmNDc5LnBuZw==',\n",
       "  '75',\n",
       "  'Streaming Dec 13, 2022'),\n",
       " ('Tár',\n",
       "  'https://prd-rteditorial.s3.us-west-2.amazonaws.com/wp-content/uploads/2018/02/14193805/Marvel-Movies-Recall2.jpg',\n",
       "  '74',\n",
       "  'Streaming Dec 20, 2022')]"
      ]
     },
     "execution_count": 18,
     "metadata": {},
     "output_type": "execute_result"
    }
   ],
   "source": [
    "play_info = list(zip(movie_title,img,audience_score,stream_date))\n",
    "play_info[:5]"
   ]
  },
  {
   "cell_type": "code",
   "execution_count": 19,
   "id": "e6ba0694",
   "metadata": {},
   "outputs": [
    {
     "data": {
      "text/html": [
       "<div>\n",
       "<style scoped>\n",
       "    .dataframe tbody tr th:only-of-type {\n",
       "        vertical-align: middle;\n",
       "    }\n",
       "\n",
       "    .dataframe tbody tr th {\n",
       "        vertical-align: top;\n",
       "    }\n",
       "\n",
       "    .dataframe thead th {\n",
       "        text-align: right;\n",
       "    }\n",
       "</style>\n",
       "<table border=\"1\" class=\"dataframe\">\n",
       "  <thead>\n",
       "    <tr style=\"text-align: right;\">\n",
       "      <th></th>\n",
       "      <th>movie_title</th>\n",
       "      <th>poster_img</th>\n",
       "      <th>audience(%)</th>\n",
       "      <th>stream_date</th>\n",
       "    </tr>\n",
       "  </thead>\n",
       "  <tbody>\n",
       "    <tr>\n",
       "      <th>0</th>\n",
       "      <td>All the Beauty and the Bloodshed</td>\n",
       "      <td>https://resizing.flixster.com/-J3ADb_tc0V_YcGH...</td>\n",
       "      <td>51</td>\n",
       "      <td>Streaming Mar 19, 2023</td>\n",
       "    </tr>\n",
       "    <tr>\n",
       "      <th>1</th>\n",
       "      <td>Everything Everywhere All at Once</td>\n",
       "      <td>https://resizing.flixster.com/vwj1-mRs0OrD9_yo...</td>\n",
       "      <td>88</td>\n",
       "      <td>Streaming Jun 7, 2022</td>\n",
       "    </tr>\n",
       "    <tr>\n",
       "      <th>2</th>\n",
       "      <td>Missing</td>\n",
       "      <td>https://resizing.flixster.com/eTf1xmJauVeH_wCG...</td>\n",
       "      <td>90</td>\n",
       "      <td>Streaming Mar 7, 2023</td>\n",
       "    </tr>\n",
       "    <tr>\n",
       "      <th>3</th>\n",
       "      <td>The Banshees of Inisherin</td>\n",
       "      <td>https://resizing.flixster.com/AqEgHoqlgAg5urgC...</td>\n",
       "      <td>75</td>\n",
       "      <td>Streaming Dec 13, 2022</td>\n",
       "    </tr>\n",
       "    <tr>\n",
       "      <th>4</th>\n",
       "      <td>Tár</td>\n",
       "      <td>https://prd-rteditorial.s3.us-west-2.amazonaws...</td>\n",
       "      <td>74</td>\n",
       "      <td>Streaming Dec 20, 2022</td>\n",
       "    </tr>\n",
       "    <tr>\n",
       "      <th>5</th>\n",
       "      <td>Palm Trees and Power Lines</td>\n",
       "      <td>https://prd-rteditorial.s3.us-west-2.amazonaws...</td>\n",
       "      <td>81</td>\n",
       "      <td>Streaming Mar 3, 2023</td>\n",
       "    </tr>\n",
       "    <tr>\n",
       "      <th>6</th>\n",
       "      <td>Puss in Boots: The Last Wish</td>\n",
       "      <td>https://prd-rteditorial.s3.us-west-2.amazonaws...</td>\n",
       "      <td>94</td>\n",
       "      <td>Streaming Jan 6, 2023</td>\n",
       "    </tr>\n",
       "    <tr>\n",
       "      <th>7</th>\n",
       "      <td>All Quiet on the Western Front</td>\n",
       "      <td>https://prd-rteditorial.s3.us-west-2.amazonaws...</td>\n",
       "      <td>90</td>\n",
       "      <td>Streaming Oct 28, 2022</td>\n",
       "    </tr>\n",
       "    <tr>\n",
       "      <th>8</th>\n",
       "      <td>All That Breathes</td>\n",
       "      <td>https://prd-rteditorial.s3.us-west-2.amazonaws...</td>\n",
       "      <td>83</td>\n",
       "      <td>Streaming Feb 7, 2023</td>\n",
       "    </tr>\n",
       "    <tr>\n",
       "      <th>9</th>\n",
       "      <td>The Fabelmans</td>\n",
       "      <td>https://prd-rteditorial.s3.us-west-2.amazonaws...</td>\n",
       "      <td>83</td>\n",
       "      <td>Streaming Dec 13, 2022</td>\n",
       "    </tr>\n",
       "    <tr>\n",
       "      <th>10</th>\n",
       "      <td>Aftersun</td>\n",
       "      <td>https://resizing.flixster.com/MAkhvSl3g-3IMmHu...</td>\n",
       "      <td>81</td>\n",
       "      <td>Streaming Dec 20, 2022</td>\n",
       "    </tr>\n",
       "    <tr>\n",
       "      <th>11</th>\n",
       "      <td>M3GAN</td>\n",
       "      <td>https://resizing.flixster.com/EfEP4ibneaDRhBY_...</td>\n",
       "      <td>78</td>\n",
       "      <td>Streaming Jan 24, 2023</td>\n",
       "    </tr>\n",
       "    <tr>\n",
       "      <th>12</th>\n",
       "      <td>The Menu</td>\n",
       "      <td>https://resizing.flixster.com/_oRGQEyYwctFP9JQ...</td>\n",
       "      <td>76</td>\n",
       "      <td>Streaming Jan 3, 2023</td>\n",
       "    </tr>\n",
       "    <tr>\n",
       "      <th>13</th>\n",
       "      <td>Top Gun: Maverick</td>\n",
       "      <td>https://resizing.flixster.com/g75SmYnr5OmzMH2p...</td>\n",
       "      <td>99</td>\n",
       "      <td>Streaming Aug 22, 2022</td>\n",
       "    </tr>\n",
       "    <tr>\n",
       "      <th>14</th>\n",
       "      <td>Elvis</td>\n",
       "      <td>https://resizing.flixster.com/sye-r3JubXdjZ0hM...</td>\n",
       "      <td>94</td>\n",
       "      <td>Streaming Aug 9, 2022</td>\n",
       "    </tr>\n",
       "    <tr>\n",
       "      <th>15</th>\n",
       "      <td>Infinity Pool</td>\n",
       "      <td>https://resizing.flixster.com/yUPCU7LElV7Hg3cW...</td>\n",
       "      <td>51</td>\n",
       "      <td>Streaming Feb 14, 2023</td>\n",
       "    </tr>\n",
       "    <tr>\n",
       "      <th>16</th>\n",
       "      <td>Black Panther: Wakanda Forever</td>\n",
       "      <td>https://resizing.flixster.com/7TqHTXZS36wi0cPw...</td>\n",
       "      <td>94</td>\n",
       "      <td>Streaming Feb 1, 2023</td>\n",
       "    </tr>\n",
       "    <tr>\n",
       "      <th>17</th>\n",
       "      <td>Creed</td>\n",
       "      <td>https://resizing.flixster.com/23LHxfziaVb6n9im...</td>\n",
       "      <td>89</td>\n",
       "      <td>Streaming Aug 21, 2016</td>\n",
       "    </tr>\n",
       "    <tr>\n",
       "      <th>18</th>\n",
       "      <td>Turning Red</td>\n",
       "      <td>https://resizing.flixster.com/xAVqQAc1-7Wkod6r...</td>\n",
       "      <td>70</td>\n",
       "      <td>Streaming Mar 11, 2022</td>\n",
       "    </tr>\n",
       "    <tr>\n",
       "      <th>19</th>\n",
       "      <td>Scream</td>\n",
       "      <td>https://resizing.flixster.com/c0UaF5wT35zDl_bC...</td>\n",
       "      <td>79</td>\n",
       "      <td>Streaming Apr 21, 2016</td>\n",
       "    </tr>\n",
       "    <tr>\n",
       "      <th>20</th>\n",
       "      <td>The Woman King</td>\n",
       "      <td>https://resizing.flixster.com/BvnA4LfxGe8DSkd6...</td>\n",
       "      <td>99</td>\n",
       "      <td>Streaming Dec 13, 2022</td>\n",
       "    </tr>\n",
       "    <tr>\n",
       "      <th>21</th>\n",
       "      <td>Plane</td>\n",
       "      <td>https://resizing.flixster.com/VS-VVckP1gsqGPL8...</td>\n",
       "      <td>94</td>\n",
       "      <td>Streaming Feb 2, 2023</td>\n",
       "    </tr>\n",
       "    <tr>\n",
       "      <th>22</th>\n",
       "      <td>Creed II</td>\n",
       "      <td>https://resizing.flixster.com/jJvkHPPuBR24i8zh...</td>\n",
       "      <td>80</td>\n",
       "      <td>Streaming Feb 12, 2019</td>\n",
       "    </tr>\n",
       "    <tr>\n",
       "      <th>23</th>\n",
       "      <td>Huesera: The Bone Woman</td>\n",
       "      <td>https://resizing.flixster.com/muQdl8QOTaRQCfed...</td>\n",
       "      <td>69</td>\n",
       "      <td>Streaming Feb 16, 2023</td>\n",
       "    </tr>\n",
       "    <tr>\n",
       "      <th>24</th>\n",
       "      <td>Nope</td>\n",
       "      <td>https://resizing.flixster.com/__1jLNztzEXGUPlc...</td>\n",
       "      <td>69</td>\n",
       "      <td>Streaming Nov 18, 2022</td>\n",
       "    </tr>\n",
       "    <tr>\n",
       "      <th>25</th>\n",
       "      <td>Guillermo del Toro's Pinocchio</td>\n",
       "      <td>https://resizing.flixster.com/qRZqOlh8YL4FQvJp...</td>\n",
       "      <td>90</td>\n",
       "      <td>Streaming Dec 9, 2022</td>\n",
       "    </tr>\n",
       "    <tr>\n",
       "      <th>26</th>\n",
       "      <td>X</td>\n",
       "      <td>https://resizing.flixster.com/q-cbmseXvttzhL3h...</td>\n",
       "      <td>75</td>\n",
       "      <td>Streaming Apr 14, 2022</td>\n",
       "    </tr>\n",
       "    <tr>\n",
       "      <th>27</th>\n",
       "      <td>EO</td>\n",
       "      <td>https://resizing.flixster.com/x3UiJsSdVP4ESM1L...</td>\n",
       "      <td>67</td>\n",
       "      <td>Streaming Feb 21, 2023</td>\n",
       "    </tr>\n",
       "    <tr>\n",
       "      <th>28</th>\n",
       "      <td>Smile</td>\n",
       "      <td>https://resizing.flixster.com/-hZAfm5Qyzg1aPs1...</td>\n",
       "      <td>77</td>\n",
       "      <td>Streaming Nov 15, 2022</td>\n",
       "    </tr>\n",
       "    <tr>\n",
       "      <th>29</th>\n",
       "      <td>Emily the Criminal</td>\n",
       "      <td>https://resizing.flixster.com/_09EwsHrA84WeZVU...</td>\n",
       "      <td>79</td>\n",
       "      <td>Streaming Oct 28, 2022</td>\n",
       "    </tr>\n",
       "  </tbody>\n",
       "</table>\n",
       "</div>"
      ],
      "text/plain": [
       "                          movie_title  \\\n",
       "0    All the Beauty and the Bloodshed   \n",
       "1   Everything Everywhere All at Once   \n",
       "2                             Missing   \n",
       "3           The Banshees of Inisherin   \n",
       "4                                 Tár   \n",
       "5          Palm Trees and Power Lines   \n",
       "6        Puss in Boots: The Last Wish   \n",
       "7      All Quiet on the Western Front   \n",
       "8                   All That Breathes   \n",
       "9                       The Fabelmans   \n",
       "10                           Aftersun   \n",
       "11                              M3GAN   \n",
       "12                           The Menu   \n",
       "13                  Top Gun: Maverick   \n",
       "14                              Elvis   \n",
       "15                      Infinity Pool   \n",
       "16     Black Panther: Wakanda Forever   \n",
       "17                              Creed   \n",
       "18                        Turning Red   \n",
       "19                             Scream   \n",
       "20                     The Woman King   \n",
       "21                              Plane   \n",
       "22                           Creed II   \n",
       "23            Huesera: The Bone Woman   \n",
       "24                               Nope   \n",
       "25     Guillermo del Toro's Pinocchio   \n",
       "26                                  X   \n",
       "27                                 EO   \n",
       "28                              Smile   \n",
       "29                 Emily the Criminal   \n",
       "\n",
       "                                           poster_img audience(%)  \\\n",
       "0   https://resizing.flixster.com/-J3ADb_tc0V_YcGH...          51   \n",
       "1   https://resizing.flixster.com/vwj1-mRs0OrD9_yo...          88   \n",
       "2   https://resizing.flixster.com/eTf1xmJauVeH_wCG...          90   \n",
       "3   https://resizing.flixster.com/AqEgHoqlgAg5urgC...          75   \n",
       "4   https://prd-rteditorial.s3.us-west-2.amazonaws...          74   \n",
       "5   https://prd-rteditorial.s3.us-west-2.amazonaws...          81   \n",
       "6   https://prd-rteditorial.s3.us-west-2.amazonaws...          94   \n",
       "7   https://prd-rteditorial.s3.us-west-2.amazonaws...          90   \n",
       "8   https://prd-rteditorial.s3.us-west-2.amazonaws...          83   \n",
       "9   https://prd-rteditorial.s3.us-west-2.amazonaws...          83   \n",
       "10  https://resizing.flixster.com/MAkhvSl3g-3IMmHu...          81   \n",
       "11  https://resizing.flixster.com/EfEP4ibneaDRhBY_...          78   \n",
       "12  https://resizing.flixster.com/_oRGQEyYwctFP9JQ...          76   \n",
       "13  https://resizing.flixster.com/g75SmYnr5OmzMH2p...          99   \n",
       "14  https://resizing.flixster.com/sye-r3JubXdjZ0hM...          94   \n",
       "15  https://resizing.flixster.com/yUPCU7LElV7Hg3cW...          51   \n",
       "16  https://resizing.flixster.com/7TqHTXZS36wi0cPw...          94   \n",
       "17  https://resizing.flixster.com/23LHxfziaVb6n9im...          89   \n",
       "18  https://resizing.flixster.com/xAVqQAc1-7Wkod6r...          70   \n",
       "19  https://resizing.flixster.com/c0UaF5wT35zDl_bC...          79   \n",
       "20  https://resizing.flixster.com/BvnA4LfxGe8DSkd6...          99   \n",
       "21  https://resizing.flixster.com/VS-VVckP1gsqGPL8...          94   \n",
       "22  https://resizing.flixster.com/jJvkHPPuBR24i8zh...          80   \n",
       "23  https://resizing.flixster.com/muQdl8QOTaRQCfed...          69   \n",
       "24  https://resizing.flixster.com/__1jLNztzEXGUPlc...          69   \n",
       "25  https://resizing.flixster.com/qRZqOlh8YL4FQvJp...          90   \n",
       "26  https://resizing.flixster.com/q-cbmseXvttzhL3h...          75   \n",
       "27  https://resizing.flixster.com/x3UiJsSdVP4ESM1L...          67   \n",
       "28  https://resizing.flixster.com/-hZAfm5Qyzg1aPs1...          77   \n",
       "29  https://resizing.flixster.com/_09EwsHrA84WeZVU...          79   \n",
       "\n",
       "               stream_date  \n",
       "0   Streaming Mar 19, 2023  \n",
       "1    Streaming Jun 7, 2022  \n",
       "2    Streaming Mar 7, 2023  \n",
       "3   Streaming Dec 13, 2022  \n",
       "4   Streaming Dec 20, 2022  \n",
       "5    Streaming Mar 3, 2023  \n",
       "6    Streaming Jan 6, 2023  \n",
       "7   Streaming Oct 28, 2022  \n",
       "8    Streaming Feb 7, 2023  \n",
       "9   Streaming Dec 13, 2022  \n",
       "10  Streaming Dec 20, 2022  \n",
       "11  Streaming Jan 24, 2023  \n",
       "12   Streaming Jan 3, 2023  \n",
       "13  Streaming Aug 22, 2022  \n",
       "14   Streaming Aug 9, 2022  \n",
       "15  Streaming Feb 14, 2023  \n",
       "16   Streaming Feb 1, 2023  \n",
       "17  Streaming Aug 21, 2016  \n",
       "18  Streaming Mar 11, 2022  \n",
       "19  Streaming Apr 21, 2016  \n",
       "20  Streaming Dec 13, 2022  \n",
       "21   Streaming Feb 2, 2023  \n",
       "22  Streaming Feb 12, 2019  \n",
       "23  Streaming Feb 16, 2023  \n",
       "24  Streaming Nov 18, 2022  \n",
       "25   Streaming Dec 9, 2022  \n",
       "26  Streaming Apr 14, 2022  \n",
       "27  Streaming Feb 21, 2023  \n",
       "28  Streaming Nov 15, 2022  \n",
       "29  Streaming Oct 28, 2022  "
      ]
     },
     "execution_count": 19,
     "metadata": {},
     "output_type": "execute_result"
    }
   ],
   "source": [
    "play_df = pd.DataFrame(play_info, columns = [ 'movie_title','poster_img','audience(%)','stream_date'])\n",
    "play_df"
   ]
  },
  {
   "cell_type": "code",
   "execution_count": null,
   "id": "2c24c543",
   "metadata": {},
   "outputs": [],
   "source": []
  }
 ],
 "metadata": {
  "kernelspec": {
   "display_name": "Python 3",
   "language": "python",
   "name": "python3"
  },
  "language_info": {
   "codemirror_mode": {
    "name": "ipython",
    "version": 3
   },
   "file_extension": ".py",
   "mimetype": "text/x-python",
   "name": "python",
   "nbconvert_exporter": "python",
   "pygments_lexer": "ipython3",
   "version": "3.8.8"
  }
 },
 "nbformat": 4,
 "nbformat_minor": 5
}
